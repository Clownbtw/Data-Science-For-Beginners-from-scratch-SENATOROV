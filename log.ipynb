{
 "cells": [
  {
   "cell_type": "markdown",
   "id": "3a7633ca",
   "metadata": {},
   "source": [
    "20/08/25\n",
    "\n",
    "Ответил на вопросы из квиза"
   ]
  }
 ],
 "metadata": {
  "kernelspec": {
   "display_name": "base",
   "language": "python",
   "name": "python3"
  },
  "language_info": {
   "codemirror_mode": {
    "name": "ipython",
    "version": 3
   },
   "file_extension": ".py",
   "mimetype": "text/x-python",
   "name": "python",
   "nbconvert_exporter": "python",
   "pygments_lexer": "ipython3",
   "version": "3.11.4"
  }
 },
 "nbformat": 4,
 "nbformat_minor": 5
}
