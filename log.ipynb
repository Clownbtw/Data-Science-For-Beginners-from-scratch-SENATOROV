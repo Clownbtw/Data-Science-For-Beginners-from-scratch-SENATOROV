{
 "cells": [
  {
   "cell_type": "markdown",
   "id": "b3001cad",
   "metadata": {},
   "source": [
    "08/08/25\n",
    "\n",
    "Сделал все пункты из интро"
   ]
  }
 ],
 "metadata": {
  "language_info": {
   "name": "python"
  }
 },
 "nbformat": 4,
 "nbformat_minor": 5
}
